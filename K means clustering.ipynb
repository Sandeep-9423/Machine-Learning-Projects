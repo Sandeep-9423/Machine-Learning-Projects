{
 "cells": [
  {
   "cell_type": "code",
   "execution_count": 1,
   "id": "4b27c80c",
   "metadata": {},
   "outputs": [],
   "source": [
    "import numpy as np\n",
    "from sklearn.datasets import make_blobs\n",
    "from sklearn.cluster import KMeans\n",
    "import matplotlib.pyplot as plt\n",
    "import seaborn as sns"
   ]
  },
  {
   "cell_type": "code",
   "execution_count": 2,
   "id": "6dd985bc",
   "metadata": {},
   "outputs": [],
   "source": [
    "# create dataset\n",
    "X, y = make_blobs(\n",
    "    n_samples=200, \n",
    "    n_features=2,       \n",
    "    centers=3, \n",
    "    cluster_std=0.5,\n",
    "    random_state=0\n",
    ")"
   ]
  },
  {
   "cell_type": "code",
   "execution_count": 9,
   "id": "631f6e81",
   "metadata": {},
   "outputs": [
    {
     "data": {
      "text/plain": [
       "array([[-1.63035585,  3.35797172],\n",
       "       [ 0.802314  ,  4.38196181],\n",
       "       [ 1.05374379,  4.49286859],\n",
       "       [-1.47804153,  3.2093591 ],\n",
       "       [ 1.12538917,  4.96698028],\n",
       "       [-1.14027752,  2.32594194],\n",
       "       [ 2.31579996,  0.60976968],\n",
       "       [ 1.8062513 ,  1.86242969],\n",
       "       [ 1.03972612,  4.50478201],\n",
       "       [-1.62223076,  2.7204575 ],\n",
       "       [ 0.77468161,  4.91500986],\n",
       "       [-1.18001744,  2.83809554],\n",
       "       [ 1.35678894,  4.36462484],\n",
       "       [ 1.17427343,  3.75725657],\n",
       "       [ 0.5226209 ,  4.32976003],\n",
       "       [-1.24325887,  2.80654471],\n",
       "       [ 2.4484315 ,  0.66445411],\n",
       "       [ 2.1262441 ,  0.73799945],\n",
       "       [ 0.56969694,  3.44064603],\n",
       "       [-2.54224625,  3.95012869],\n",
       "       [-1.23764326,  3.09270949],\n",
       "       [ 1.68289011,  0.48444439],\n",
       "       [ 0.99914934,  4.2101954 ],\n",
       "       [ 1.44989606,  4.22628228],\n",
       "       [-2.65468613,  2.40662884],\n",
       "       [ 0.16932115,  4.19741719],\n",
       "       [ 1.73345832, -0.21403792],\n",
       "       [-1.90897598,  2.19898652],\n",
       "       [-1.09794205,  3.48843319],\n",
       "       [-1.55771721,  2.86422962],\n",
       "       [ 1.2091013 ,  3.53566548],\n",
       "       [ 0.98152009,  5.19672257],\n",
       "       [-1.54798974,  2.77443867],\n",
       "       [ 0.76946059,  3.93005992],\n",
       "       [ 1.64858539,  0.1644515 ],\n",
       "       [ 2.31721303,  0.9418747 ],\n",
       "       [ 1.15445328,  4.65707391],\n",
       "       [ 2.19522982,  0.84858847],\n",
       "       [ 2.37533328,  0.08918564],\n",
       "       [-2.44843879,  2.67889526],\n",
       "       [ 1.58304439,  0.69263881],\n",
       "       [-1.8531083 ,  2.72240557],\n",
       "       [-2.41117324,  3.09562316],\n",
       "       [-1.18199493,  3.56880538],\n",
       "       [ 1.91004956,  4.75680966],\n",
       "       [ 1.59141542,  4.90497725],\n",
       "       [ 0.63910375,  4.31970261],\n",
       "       [-0.99264931,  2.69118936],\n",
       "       [ 0.38970838,  5.27559792],\n",
       "       [ 1.00952869,  4.45502328],\n",
       "       [ 0.65910903,  4.12241674],\n",
       "       [ 1.98882723,  0.74876822],\n",
       "       [-1.85305081,  2.65728761],\n",
       "       [-1.60573752,  4.04624401],\n",
       "       [-1.58217434,  3.42796862],\n",
       "       [-1.70361989,  2.10964517],\n",
       "       [ 2.13352079,  1.01375418],\n",
       "       [ 2.51569693,  1.05702749],\n",
       "       [ 1.26456549,  4.19963795],\n",
       "       [ 1.72039618,  5.25173192],\n",
       "       [-2.19403325,  2.24452351],\n",
       "       [-0.70283655,  2.99999614],\n",
       "       [ 0.96217896,  4.51795326],\n",
       "       [ 1.75660949,  0.7787028 ],\n",
       "       [ 1.8706766 ,  0.77797407],\n",
       "       [-1.38373217,  3.22230418],\n",
       "       [ 1.28486901,  0.92929466],\n",
       "       [ 1.59885641,  1.4561718 ],\n",
       "       [-1.50758874,  2.08952471],\n",
       "       [ 2.02114672,  1.75433502],\n",
       "       [ 1.90076104,  0.05966176],\n",
       "       [ 0.44089377,  4.83101319],\n",
       "       [ 0.7586933 ,  5.22841919],\n",
       "       [-1.72662853,  3.10291021],\n",
       "       [ 0.3498724 ,  4.69253251],\n",
       "       [-1.50215652,  3.16480065],\n",
       "       [ 1.82750127,  0.90640324],\n",
       "       [ 3.184922  ,  0.87653508],\n",
       "       [ 1.57729502,  0.72467277],\n",
       "       [-2.85649013,  3.22104202],\n",
       "       [-1.84094779,  2.6773687 ],\n",
       "       [ 1.06498315,  4.10289686],\n",
       "       [ 0.92466065,  4.50908658],\n",
       "       [ 3.24683991,  1.3699034 ],\n",
       "       [ 2.31690585,  0.81189049],\n",
       "       [ 1.40848818,  3.93270482],\n",
       "       [ 0.72144399,  4.08475018],\n",
       "       [-1.70925079,  2.99623419],\n",
       "       [ 0.54565724,  5.2588198 ],\n",
       "       [ 2.13860427,  1.21517938],\n",
       "       [-2.10558164,  2.76173614],\n",
       "       [-1.15330985,  2.32340978],\n",
       "       [ 2.25479069, -0.48863272],\n",
       "       [ 0.5408715 ,  4.0143625 ],\n",
       "       [ 2.64928242,  1.05613497],\n",
       "       [ 0.84226839,  4.70501553],\n",
       "       [ 1.1774409 ,  3.96138228],\n",
       "       [-1.58598604,  2.57779316],\n",
       "       [-1.87082282,  2.31084356],\n",
       "       [ 2.4010369 ,  1.24503823],\n",
       "       [ 1.87827057,  0.21018801],\n",
       "       [ 1.74265969,  5.03846671],\n",
       "       [-1.76673192,  3.22806141],\n",
       "       [ 0.64003985,  4.12401075],\n",
       "       [-1.59375479,  3.45675416],\n",
       "       [ 0.16117091,  4.53517846],\n",
       "       [ 2.60509732,  1.22529553],\n",
       "       [ 0.5285368 ,  4.49723858],\n",
       "       [-0.30022483,  4.63059663],\n",
       "       [ 1.68548602,  1.66917096],\n",
       "       [ 0.72086751,  3.71347124],\n",
       "       [-0.84463809,  2.57315767],\n",
       "       [ 1.39731382,  0.66687136],\n",
       "       [-0.79361466,  3.34415823],\n",
       "       [ 0.78260667,  4.15263595],\n",
       "       [ 1.19820169,  4.47062449],\n",
       "       [ 1.54597042,  3.68637442],\n",
       "       [ 2.52997792,  0.94143928],\n",
       "       [-1.82623098,  2.35993377],\n",
       "       [-1.53474507,  2.99834635],\n",
       "       [ 1.7571105 ,  0.87138001],\n",
       "       [ 1.82346953,  1.1384044 ],\n",
       "       [-1.20524678,  2.13257056],\n",
       "       [ 1.16448284,  3.75408693],\n",
       "       [ 1.73654901,  0.69902775],\n",
       "       [ 0.4519936 ,  3.59377836],\n",
       "       [-2.4048493 ,  3.14334949],\n",
       "       [ 1.08712762,  0.99205296],\n",
       "       [-2.09031692,  2.55254338],\n",
       "       [ 1.28330976,  4.76489066],\n",
       "       [-1.38668316,  2.42132046],\n",
       "       [ 1.5381461 ,  1.23846092],\n",
       "       [ 1.34323707,  0.65100372],\n",
       "       [ 1.30963873,  1.11735951],\n",
       "       [ 1.31241746,  4.50751825],\n",
       "       [ 1.89982444,  0.94636374],\n",
       "       [ 2.00604126,  0.56592452],\n",
       "       [ 1.45131429,  4.22810872],\n",
       "       [ 1.55515985,  0.12527811],\n",
       "       [-1.28003312,  2.85983029],\n",
       "       [-1.59487886,  3.48632794],\n",
       "       [-1.74736533,  2.77770451],\n",
       "       [ 1.72330962,  4.2012082 ],\n",
       "       [ 1.46083789,  0.64425548],\n",
       "       [ 2.48368283,  0.57215086],\n",
       "       [ 0.82049381,  4.33187   ],\n",
       "       [-1.87925415,  3.38951262],\n",
       "       [-2.18016744,  3.7469476 ],\n",
       "       [ 1.50307585,  0.9237462 ],\n",
       "       [ 0.65834704,  4.64200397],\n",
       "       [ 2.03562611,  0.31361691],\n",
       "       [-2.0495307 ,  3.52345491],\n",
       "       [-1.87292894,  3.68607079],\n",
       "       [-2.01965938,  2.18196476],\n",
       "       [ 1.34081536,  4.36827878],\n",
       "       [ 3.1368855 ,  1.56592763],\n",
       "       [ 2.4411628 ,  1.30941574],\n",
       "       [ 1.78383678,  1.10568868],\n",
       "       [ 0.62898615,  4.22897006],\n",
       "       [ 0.39369516,  4.75420057],\n",
       "       [-0.37494566,  2.38787435],\n",
       "       [-1.10608838,  2.79315297],\n",
       "       [-1.38964583,  2.47242472],\n",
       "       [-1.71934392,  2.96505806],\n",
       "       [ 1.56565986,  4.21382491],\n",
       "       [ 0.34102758,  4.78848568],\n",
       "       [ 2.04310446,  0.52864821],\n",
       "       [-1.14357242,  3.09602867],\n",
       "       [ 2.04675731,  1.08723953],\n",
       "       [ 1.40883907,  1.03118909],\n",
       "       [ 0.5323772 ,  3.31338909],\n",
       "       [ 2.36788325,  0.09663483],\n",
       "       [ 0.12313498,  5.27917503],\n",
       "       [ 2.6314333 ,  1.43747296],\n",
       "       [-1.19371247,  2.68752237],\n",
       "       [-1.17767544,  2.91976771],\n",
       "       [ 1.91784543,  3.6299078 ],\n",
       "       [-2.37595692,  3.1115225 ],\n",
       "       [ 0.59131204,  4.57341192],\n",
       "       [ 1.44254976,  1.31984515],\n",
       "       [ 1.08040757,  4.79210685],\n",
       "       [-1.66077078,  2.3538766 ],\n",
       "       [ 2.26839689,  1.23611768],\n",
       "       [ 3.03322368,  1.09271032],\n",
       "       [ 2.80250979, -0.13732885],\n",
       "       [ 2.11114739,  3.57660449],\n",
       "       [-1.88670621,  2.51138577],\n",
       "       [ 1.4815332 ,  0.67875364],\n",
       "       [ 1.04829186,  5.03092408],\n",
       "       [ 1.93774109,  5.04404472],\n",
       "       [-1.06097983,  3.08786475],\n",
       "       [-1.67282269,  2.53713616],\n",
       "       [ 1.26379832,  1.20285335],\n",
       "       [ 1.65356269,  0.55288877],\n",
       "       [ 1.47717631,  1.28826271],\n",
       "       [ 2.61858548,  0.35769791],\n",
       "       [-1.86890946,  3.74765766],\n",
       "       [ 2.51035698,  1.05627277],\n",
       "       [ 1.13280393,  3.87673946],\n",
       "       [ 1.69246883,  0.20598168]])"
      ]
     },
     "execution_count": 9,
     "metadata": {},
     "output_type": "execute_result"
    }
   ],
   "source": [
    "X"
   ]
  },
  {
   "cell_type": "code",
   "execution_count": 3,
   "id": "ed325ace",
   "metadata": {},
   "outputs": [
    {
     "data": {
      "text/plain": [
       "200"
      ]
     },
     "execution_count": 3,
     "metadata": {},
     "output_type": "execute_result"
    }
   ],
   "source": [
    "len(y)"
   ]
  },
  {
   "cell_type": "code",
   "execution_count": 4,
   "id": "9a07d5f5",
   "metadata": {},
   "outputs": [
    {
     "data": {
      "text/plain": [
       "<matplotlib.collections.PathCollection at 0x28c3b216c70>"
      ]
     },
     "execution_count": 4,
     "metadata": {},
     "output_type": "execute_result"
    },
    {
     "data": {
      "image/png": "[encoded data removed]",
      "text/plain": [
       "<Figure size 432x288 with 1 Axes>"
      ]
     },
     "metadata": {
      "needs_background": "light"
     },
     "output_type": "display_data"
    }
   ],
   "source": [
    "# plot\n",
    "plt.scatter(\n",
    "   X[:, 0], X[:, 1],\n",
    "   c='white',\n",
    "   edgecolor='black'\n",
    ")"
   ]
  },
  {
   "cell_type": "code",
   "execution_count": 5,
   "id": "b01ee190",
   "metadata": {},
   "outputs": [],
   "source": [
    "kmeans = KMeans(\n",
    "    n_clusters=3, init='random',\n",
    "    n_init=1, max_iter=4, \n",
    "    tol=1e-04, random_state=2\n",
    ")"
   ]
  },
  {
   "cell_type": "code",
   "execution_count": 6,
   "id": "3c600563",
   "metadata": {},
   "outputs": [],
   "source": [
    "y_km = kmeans.fit_predict(X)"
   ]
  },
  {
   "cell_type": "code",
   "execution_count": 7,
   "id": "4c3bbad2",
   "metadata": {},
   "outputs": [
    {
     "data": {
      "text/plain": [
       "array([1, 2, 2, 1, 2, 1, 0, 0, 2, 1, 2, 1, 2, 2, 2, 1, 0, 0, 2, 1, 1, 0,\n",
       "       2, 2, 1, 2, 0, 1, 1, 1, 2, 2, 1, 2, 0, 0, 2, 0, 0, 1, 0, 1, 1, 1,\n",
       "       2, 2, 2, 1, 2, 2, 2, 0, 1, 1, 1, 1, 0, 0, 2, 2, 1, 1, 2, 0, 0, 1,\n",
       "       0, 0, 1, 0, 0, 2, 2, 1, 2, 1, 0, 0, 0, 1, 1, 2, 2, 0, 0, 2, 2, 1,\n",
       "       2, 0, 1, 1, 0, 2, 0, 2, 2, 1, 1, 0, 0, 2, 1, 2, 1, 2, 0, 2, 2, 0,\n",
       "       2, 1, 0, 1, 2, 2, 2, 0, 1, 1, 0, 0, 1, 2, 0, 2, 1, 0, 1, 2, 1, 0,\n",
       "       0, 0, 2, 0, 0, 2, 0, 1, 1, 1, 2, 0, 0, 2, 1, 1, 0, 2, 0, 1, 1, 1,\n",
       "       2, 0, 0, 0, 2, 2, 1, 1, 1, 1, 2, 2, 0, 1, 0, 0, 2, 0, 2, 0, 1, 1,\n",
       "       2, 1, 2, 0, 2, 1, 0, 0, 0, 2, 1, 0, 2, 2, 1, 1, 0, 0, 0, 0, 1, 0,\n",
       "       2, 0])"
      ]
     },
     "execution_count": 7,
     "metadata": {},
     "output_type": "execute_result"
    }
   ],
   "source": [
    "y_km"
   ]
  },
  {
   "cell_type": "code",
   "execution_count": 8,
   "id": "61d43087",
   "metadata": {},
   "outputs": [
    {
     "data": {
      "text/plain": [
       "<matplotlib.legend.Legend at 0x28c4055df70>"
      ]
     },
     "execution_count": 8,
     "metadata": {},
     "output_type": "execute_result"
    },
    {
     "data": {
      "image/png": "[encoded data removed]",
      "text/plain": [
       "<Figure size 432x288 with 1 Axes>"
      ]
     },
     "metadata": {
      "needs_background": "light"
     },
     "output_type": "display_data"
    }
   ],
   "source": [
    "# plot the 3 clusters\n",
    "plt.scatter(\n",
    "    X[y_km == 0, 0], X[y_km == 0, 1],\n",
    "    s=50, c='lightgreen',\n",
    "    marker='s', edgecolor='black',\n",
    "    label='cluster 1')\n",
    "\n",
    "plt.scatter(\n",
    "    X[y_km == 1, 0], X[y_km == 1, 1],\n",
    "    s=50, c='orange',\n",
    "    marker='o', edgecolor='black',\n",
    "    label='cluster 2'\n",
    ")\n",
    "\n",
    "plt.scatter(\n",
    "    X[y_km == 2, 0], X[y_km == 2, 1],\n",
    "    s=50, c='lightblue',\n",
    "    marker='v', edgecolor='black',\n",
    "    label='cluster 3'\n",
    ")\n",
    "\n",
    "# plot the centroids\n",
    "plt.scatter(\n",
    "    kmeans.cluster_centers_[:, 0], kmeans.cluster_centers_[:, 1],\n",
    "    s=250, marker='*',\n",
    "    c='red', edgecolor='black',\n",
    "    label='centroids'\n",
    ")\n",
    "plt.legend(scatterpoints=1)"
   ]
  },
  {
   "cell_type": "code",
   "execution_count": null,
   "id": "bd17dc13",
   "metadata": {},
   "outputs": [],
   "source": []
  }
 ],
 "metadata": {
  "kernelspec": {
   "display_name": "Python 3 (ipykernel)",
   "language": "python",
   "name": "python3"
  },
  "language_info": {
   "codemirror_mode": {
    "name": "ipython",
    "version": 3
   },
   "file_extension": ".py",
   "mimetype": "text/x-python",
   "name": "python",
   "nbconvert_exporter": "python",
   "pygments_lexer": "ipython3",
   "version": "3.9.12"
  }
 },
 "nbformat": 4,
 "nbformat_minor": 5
}
